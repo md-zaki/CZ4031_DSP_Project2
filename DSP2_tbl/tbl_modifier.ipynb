{
 "cells": [
  {
   "cell_type": "code",
   "execution_count": 29,
   "metadata": {},
   "outputs": [],
   "source": [
    "import csv\n",
    "\n",
    "input_file = 'supplier.csv'\n",
    "output_file = '../cleaned_csv/supplier.csv'\n",
    "\n",
    "with open(input_file, 'r') as csvfile_in, open(output_file, 'w', newline='') as csvfile_out:\n",
    "    reader = csv.reader(csvfile_in)\n",
    "    writer = csv.writer(csvfile_out)\n",
    "    for row in reader:\n",
    "        if row[-1][-1:] == '|':\n",
    "            # print(row[-1][-1:])\n",
    "            row[-1] = row[-1][:-1]\n",
    "        writer.writerow(row)\n"
   ]
  },
  {
   "cell_type": "code",
   "execution_count": null,
   "metadata": {},
   "outputs": [],
   "source": []
  }
 ],
 "metadata": {
  "kernelspec": {
   "display_name": "ml",
   "language": "python",
   "name": "python3"
  },
  "language_info": {
   "codemirror_mode": {
    "name": "ipython",
    "version": 3
   },
   "file_extension": ".py",
   "mimetype": "text/x-python",
   "name": "python",
   "nbconvert_exporter": "python",
   "pygments_lexer": "ipython3",
   "version": "3.9.16"
  },
  "orig_nbformat": 4
 },
 "nbformat": 4,
 "nbformat_minor": 2
}
