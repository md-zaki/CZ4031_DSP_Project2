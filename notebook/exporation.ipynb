{
 "cells": [
  {
   "cell_type": "code",
   "execution_count": 1,
   "metadata": {},
   "outputs": [],
   "source": [
    "import psycopg2"
   ]
  },
  {
   "cell_type": "code",
   "execution_count": 2,
   "metadata": {},
   "outputs": [],
   "source": [
    "conn = psycopg2.connect(database=\"postgres\",\n",
    "                        host=\"localhost\",\n",
    "                        user=\"postgres\",\n",
    "                        password=\"dspproject123\",\n",
    "                        port=\"5432\")"
   ]
  },
  {
   "cell_type": "code",
   "execution_count": 12,
   "metadata": {},
   "outputs": [
    {
     "data": {
      "text/plain": [
       "\"EXPLAIN (COSTS FALSE, TIMING FALSE) select * from customer C, orders O, nation N where C.c_custkey = O.o_custkey and C.c_name like '%cheng' and C.c_nationkey = N.n_nationkey\""
      ]
     },
     "execution_count": 12,
     "metadata": {},
     "output_type": "execute_result"
    }
   ],
   "source": [
    "cursor = conn.cursor()\n",
    "query = \"select * from customer C, orders O, nation N where C.c_custkey = O.o_custkey and C.c_name like '%cheng' and C.c_nationkey = N.n_nationkey\"\n",
    "extract_qp = \"EXPLAIN (COSTS FALSE, TIMING FALSE) \"\n",
    "cursor.execute(extract_qp + query)\n",
    "extract_qp+query"
   ]
  },
  {
   "cell_type": "code",
   "execution_count": 13,
   "metadata": {},
   "outputs": [],
   "source": [
    "qep_list1 = cursor.fetchall()"
   ]
  },
  {
   "cell_type": "code",
   "execution_count": 14,
   "metadata": {},
   "outputs": [
    {
     "name": "stdout",
     "output_type": "stream",
     "text": [
      "Gather\n",
      "  Workers Planned: 2\n",
      "  ->  Hash Join\n",
      "        Hash Cond: (c.c_nationkey = n.n_nationkey)\n",
      "        ->  Parallel Hash Join\n",
      "              Hash Cond: (o.o_custkey = c.c_custkey)\n",
      "              ->  Parallel Seq Scan on orders o\n",
      "              ->  Parallel Hash\n",
      "                    ->  Parallel Seq Scan on customer c\n",
      "                          Filter: ((c_name)::text ~~ '%cheng'::text)\n",
      "        ->  Hash\n",
      "              ->  Seq Scan on nation n\n"
     ]
    }
   ],
   "source": [
    "for i in qep_list1:\n",
    "    print(i[0])"
   ]
  },
  {
   "cell_type": "code",
   "execution_count": 7,
   "metadata": {},
   "outputs": [],
   "source": [
    "from collections import deque\n"
   ]
  },
  {
   "cell_type": "code",
   "execution_count": 22,
   "metadata": {},
   "outputs": [],
   "source": [
    "query = \"select AVG(o_totalprice) from orders\"\n",
    "extract_qp = \"EXPLAIN (ANALYZE false, SETTINGS true, FORMAT JSON) \"\n",
    "cursor.execute(extract_qp + query)"
   ]
  },
  {
   "cell_type": "code",
   "execution_count": 23,
   "metadata": {},
   "outputs": [],
   "source": [
    "qep = cursor.fetchall()[0][0][0].get(\"Plan\")"
   ]
  },
  {
   "cell_type": "code",
   "execution_count": 26,
   "metadata": {},
   "outputs": [],
   "source": [
    "node_list = []\n",
    "graph_str = ''''''\n",
    "graph_str = graph_str + 'digraph {'\n",
    "q = deque([qep])\n",
    "while q:\n",
    "    for i in range(len(q)):\n",
    "        node = q.popleft()\n",
    "        parent = node['Node Type']\n",
    "        node_list.append(node)\n",
    "        if \"Plans\" in node:\n",
    "            for child in node['Plans']:\n",
    "                graph_str = graph_str + parent + \" -> \" + child['Node Type'] + \"\\n\"\n",
    "                q.append(child)\n",
    "graph_str = graph_str + '}'"
   ]
  },
  {
   "cell_type": "code",
   "execution_count": 27,
   "metadata": {},
   "outputs": [
    {
     "data": {
      "text/plain": [
       "'digraph {Hash Join -> Seq Scan\\nHash Join -> Hash\\nHash -> Seq Scan\\n}'"
      ]
     },
     "execution_count": 27,
     "metadata": {},
     "output_type": "execute_result"
    }
   ],
   "source": [
    "graph_str"
   ]
  },
  {
   "cell_type": "code",
   "execution_count": 21,
   "metadata": {},
   "outputs": [
    {
     "name": "stderr",
     "output_type": "stream",
     "text": [
      "2023-03-29 20:20:00.115 \n",
      "  \u001b[33m\u001b[1mWarning:\u001b[0m to view this Streamlit app on a browser, run it with the following\n",
      "  command:\n",
      "\n",
      "    streamlit run c:\\Users\\mdzak\\anaconda3\\envs\\dsp2\\Lib\\site-packages\\ipykernel_launcher.py [ARGUMENTS]\n"
     ]
    },
    {
     "data": {
      "text/plain": [
       "DeltaGenerator(_root_container=0, _provided_cursor=None, _parent=None, _block_type=None, _form_data=None)"
      ]
     },
     "execution_count": 21,
     "metadata": {},
     "output_type": "execute_result"
    }
   ],
   "source": [
    "import graphviz\n",
    "import streamlit as st\n",
    "graph = '''\n",
    "    digraph {{\n",
    "        {e1} [color =\"red\"]\n",
    "        {e1} -> {e2}\n",
    "    }}\n",
    "'''.format(e1 = 'element1', e2 = 'element2')\n",
    "\n",
    "st.graphviz_chart(graph)"
   ]
  },
  {
   "cell_type": "code",
   "execution_count": 17,
   "metadata": {},
   "outputs": [],
   "source": [
    "str1 = \"hello word\"\n",
    "str2 = \"bye world\"\n",
    "new_string = str1 + \"\\n\" + str2"
   ]
  },
  {
   "cell_type": "code",
   "execution_count": 18,
   "metadata": {},
   "outputs": [
    {
     "data": {
      "text/plain": [
       "'hello word\\nbye world'"
      ]
     },
     "execution_count": 18,
     "metadata": {},
     "output_type": "execute_result"
    }
   ],
   "source": [
    "new_string"
   ]
  },
  {
   "cell_type": "code",
   "execution_count": null,
   "metadata": {},
   "outputs": [],
   "source": [
    "node_list"
   ]
  },
  {
   "cell_type": "code",
   "execution_count": null,
   "metadata": {},
   "outputs": [],
   "source": [
    "node_types"
   ]
  },
  {
   "cell_type": "code",
   "execution_count": null,
   "metadata": {},
   "outputs": [],
   "source": [
    "node_type_list = []\n",
    "count = 0\n",
    "for line in qep:\n",
    "    n_type = ''\n",
    "    node = line[0].split()\n",
    "    if node[0] == '->':\n",
    "        try:\n",
    "            n_type = node[1] + \" \" + node[2]\n",
    "        except:\n",
    "            n_type = node[1]\n",
    "        node_type_list.append(n_type)\n",
    "    elif count == 0:\n",
    "        try:\n",
    "            n_type = node[0] + \" \" + node[1]\n",
    "        except:\n",
    "            n_type = node[0]\n",
    "        node_type_list.append(n_type)\n",
    "        count = count + 1"
   ]
  },
  {
   "cell_type": "code",
   "execution_count": null,
   "metadata": {},
   "outputs": [],
   "source": [
    "node_type_list"
   ]
  },
  {
   "cell_type": "code",
   "execution_count": null,
   "metadata": {},
   "outputs": [],
   "source": [
    "exp_text = \"\""
   ]
  },
  {
   "cell_type": "code",
   "execution_count": null,
   "metadata": {},
   "outputs": [],
   "source": []
  },
  {
   "cell_type": "code",
   "execution_count": null,
   "metadata": {},
   "outputs": [],
   "source": []
  },
  {
   "cell_type": "code",
   "execution_count": null,
   "metadata": {},
   "outputs": [],
   "source": [
    "import psycopg2\n",
    "\n",
    "# Connect to the PostgreSQL database\n",
    "conn = psycopg2.connect(database=\"your_database_name\", user=\"your_username\", password=\"your_password\", host=\"your_host\", port=\"your_port\")\n",
    "cur = conn.cursor()\n",
    "\n",
    "# Execute the query and retrieve the query plan\n",
    "cur.execute(\"EXPLAIN ANALYZE your_query_here\")\n",
    "plan = cur.fetchall()\n",
    "\n",
    "# Define a function to convert the plan to natural language\n",
    "def explain_plan(plan):\n",
    "    explanation = \"\"\n",
    "\n",
    "    for line in plan:\n",
    "        # Split the line into its components\n",
    "        line_parts = line[0].split(\" \")\n",
    "        \n",
    "        # Check if the line represents a node in the execution plan\n",
    "        if line_parts[0] == \"->\":\n",
    "            # Extract the node type and the estimated cost\n",
    "            node_type = line_parts[1]\n",
    "            estimated_cost = line_parts[-1].replace(\"..\", \"to\")\n",
    "\n",
    "            # Generate a natural language explanation based on the node type\n",
    "            if node_type == \"Seq Scan\":\n",
    "                explanation += \"The database is scanning the entire table to retrieve the required data. \"\n",
    "            elif node_type == \"Index Scan\":\n",
    "                explanation += \"The database is using an index to retrieve the required data. \"\n",
    "            elif node_type == \"Nested Loop\":\n",
    "                explanation += \"The database is performing a nested loop join between two tables. \"\n",
    "            elif node_type == \"Hash Join\":\n",
    "                explanation += \"The database is performing a hash join between"
   ]
  },
  {
   "cell_type": "code",
   "execution_count": 24,
   "metadata": {},
   "outputs": [],
   "source": [
    "def remove_lines_without_arrow(string):\n",
    "    # split the string into a list of lines\n",
    "    lines = string.split('\\n')\n",
    "    \n",
    "    # create a new list of lines that contain the \"->\" symbol\n",
    "    filtered_lines = [line for line in lines if \"[\" in line]\n",
    "    \n",
    "    # join the filtered lines back into a string\n",
    "    new_string = '\\n'.join(filtered_lines)\n",
    "    lines = new_string.split('\\n')\n",
    "    \n",
    "    # create a new list of text between the first two \" characters in each line\n",
    "    extracted_text = []\n",
    "    for line in lines:\n",
    "        start = line.find('\"') + 1\n",
    "        end = line.find('\"', start)\n",
    "        extracted_text.append(line[start:end])\n",
    "    \n",
    "    # join the extracted text back into a string\n",
    "    new_string = '\\n'.join(extracted_text)\n",
    "    \n",
    "    return new_string"
   ]
  },
  {
   "cell_type": "code",
   "execution_count": 58,
   "metadata": {},
   "outputs": [],
   "source": [
    "g1 = '''digraph {\n",
    "1[label=\"HashJoin\"]\n",
    "2[label=\"SeqScan\"]\n",
    "1->2\n",
    "3[label=\"Hash\"]\n",
    "1->3\n",
    "4[label=\"SeqScan\"]\n",
    "3->4\n",
    "}\n",
    "}'''"
   ]
  },
  {
   "cell_type": "code",
   "execution_count": 78,
   "metadata": {},
   "outputs": [],
   "source": [
    "g2 = '''digraph {\n",
    "1[label=\"Gather\"]\n",
    "2[label=\"HashJoin\"]\n",
    "1->2\n",
    "3[label=\"SeqScan\"]\n",
    "2->3\n",
    "4[label=\"Hash\"]\n",
    "2->4\n",
    "5[label=\"SeqScan\"]\n",
    "4->5\n",
    "}'''"
   ]
  },
  {
   "cell_type": "code",
   "execution_count": 91,
   "metadata": {},
   "outputs": [],
   "source": [
    "node_id = None\n",
    "lines = g2.split('\\n')\n",
    "for line in lines:\n",
    "    if 'label=\"Gather\"' in line:\n",
    "        node_id = line.split(' ')[0]\n",
    "        break\n",
    "if node_id is not None:\n",
    "        for i in range(len(lines)):\n",
    "            if node_id in lines[i]:\n",
    "                lines[i] = lines[i].replace(']', ' style=filled fillcolor=red]')\n",
    "                break\n",
    "newg = '\\n'.join(lines)\n"
   ]
  },
  {
   "cell_type": "code",
   "execution_count": 92,
   "metadata": {},
   "outputs": [
    {
     "data": {
      "text/plain": [
       "'digraph {\\n1[label=\"Gather\" style=filled fillcolor=red]\\n2[label=\"HashJoin\"]\\n1->2\\n3[label=\"SeqScan\"]\\n2->3\\n4[label=\"Hash\"]\\n2->4\\n5[label=\"SeqScan\"]\\n4->5\\n}'"
      ]
     },
     "execution_count": 92,
     "metadata": {},
     "output_type": "execute_result"
    }
   ],
   "source": [
    "newg"
   ]
  },
  {
   "cell_type": "code",
   "execution_count": 89,
   "metadata": {},
   "outputs": [
    {
     "data": {
      "text/plain": [
       "'1[label=\"Gather\"]'"
      ]
     },
     "execution_count": 89,
     "metadata": {},
     "output_type": "execute_result"
    }
   ],
   "source": [
    "node_id"
   ]
  },
  {
   "cell_type": "code",
   "execution_count": 90,
   "metadata": {},
   "outputs": [
    {
     "data": {
      "text/plain": [
       "['digraph {',\n",
       " '1[label=\"Gather\" style=filled fillcolor=red]',\n",
       " '2[label=\"HashJoin\"]',\n",
       " '1->2',\n",
       " '3[label=\"SeqScan\"]',\n",
       " '2->3',\n",
       " '4[label=\"Hash\"]',\n",
       " '2->4',\n",
       " '5[label=\"SeqScan\"]',\n",
       " '4->5',\n",
       " '}']"
      ]
     },
     "execution_count": 90,
     "metadata": {},
     "output_type": "execute_result"
    }
   ],
   "source": [
    "lines"
   ]
  },
  {
   "cell_type": "code",
   "execution_count": 96,
   "metadata": {},
   "outputs": [],
   "source": [
    "def highlight_node(dot_string,element):\n",
    "    # Find the node with label \"Gather\"\n",
    "    node_id = None\n",
    "    lines = dot_string.split('\\n')\n",
    "    for line in lines:\n",
    "        if 'label='+str(element) in line:\n",
    "            node_id = line.split(' ')[0]\n",
    "            break\n",
    "    \n",
    "    # If the node is found, add a red fill color to it\n",
    "    if node_id is not None:\n",
    "        for i in range(len(lines)):\n",
    "            if node_id in lines[i]:\n",
    "                lines[i] = lines[i].replace(']', ' style=filled fillcolor=red];')\n",
    "                break\n",
    "    \n",
    "    # Return the modified dot string\n",
    "    return '\\n'.join(lines)"
   ]
  },
  {
   "cell_type": "code",
   "execution_count": 97,
   "metadata": {},
   "outputs": [
    {
     "data": {
      "text/plain": [
       "'digraph {\\n1[label=\"Gather\" style=filled fillcolor=red];\\n2[label=\"HashJoin\"]\\n1->2\\n3[label=\"SeqScan\"]\\n2->3\\n4[label=\"Hash\"]\\n2->4\\n5[label=\"SeqScan\"]\\n4->5\\n}'"
      ]
     },
     "execution_count": 97,
     "metadata": {},
     "output_type": "execute_result"
    }
   ],
   "source": [
    "highlight_node(g2,'\"Gather\"')"
   ]
  },
  {
   "cell_type": "code",
   "execution_count": 60,
   "metadata": {},
   "outputs": [],
   "source": [
    "import pydot\n",
    "graph1 = pydot.graph_from_dot_data(g1)[0]\n",
    "graph1_labels = set([node.get_label() for node in graph1.get_nodes()])"
   ]
  },
  {
   "cell_type": "code",
   "execution_count": 61,
   "metadata": {},
   "outputs": [
    {
     "data": {
      "text/plain": [
       "{'\"Hash\"', '\"HashJoin\"', '\"SeqScan\"'}"
      ]
     },
     "execution_count": 61,
     "metadata": {},
     "output_type": "execute_result"
    }
   ],
   "source": [
    "graph1_labels"
   ]
  },
  {
   "cell_type": "code",
   "execution_count": 62,
   "metadata": {},
   "outputs": [],
   "source": [
    "graph2 = pydot.graph_from_dot_data(g2)[0]\n",
    "graph2_labels = set([node.get_label() for node in graph2.get_nodes()])"
   ]
  },
  {
   "cell_type": "code",
   "execution_count": 63,
   "metadata": {},
   "outputs": [
    {
     "data": {
      "text/plain": [
       "{'\"Gather\"', '\"Hash\"', '\"HashJoin\"', '\"SeqScan\"'}"
      ]
     },
     "execution_count": 63,
     "metadata": {},
     "output_type": "execute_result"
    }
   ],
   "source": [
    "graph2_labels"
   ]
  },
  {
   "cell_type": "code",
   "execution_count": 64,
   "metadata": {},
   "outputs": [],
   "source": [
    "import pydot\n",
    "\n",
    "def compare_graph_labels(graph1_str, graph2_str):\n",
    "    # Parse the Graphviz graphs from the input strings\n",
    "    graph1 = pydot.graph_from_dot_data(graph1_str)[0]\n",
    "    graph2 = pydot.graph_from_dot_data(graph2_str)[0]\n",
    "\n",
    "    # Get the labels of the nodes in each graph\n",
    "    graph1_labels = set([node.get_label() for node in graph1.get_nodes()])\n",
    "    graph2_labels = set([node.get_label() for node in graph2.get_nodes()])\n",
    "\n",
    "    # Find the labels present in graph1 but missing in graph2\n",
    "    missing_in_graph2 = graph1_labels - graph2_labels\n",
    "\n",
    "    # Find the labels present in graph2 but missing in graph1\n",
    "    missing_in_graph1 = graph2_labels - graph1_labels\n",
    "\n",
    "    # Return the missing labels for each graph\n",
    "    return missing_in_graph1, missing_in_graph2"
   ]
  },
  {
   "cell_type": "code",
   "execution_count": 65,
   "metadata": {},
   "outputs": [],
   "source": [
    "graph1 ='digraph { 1[label=\"A\"] 2[label=\"B\"] 1->2 }'\n",
    "\n",
    "graph2 = 'digraph { 1[label=\"A\"] 2[label=\"C\"] 1->2 }'\n",
    "\n"
   ]
  },
  {
   "cell_type": "code",
   "execution_count": 66,
   "metadata": {},
   "outputs": [
    {
     "data": {
      "text/plain": [
       "({'\"Gather\"'}, set())"
      ]
     },
     "execution_count": 66,
     "metadata": {},
     "output_type": "execute_result"
    }
   ],
   "source": [
    "compare_graph_labels(g1, g2)"
   ]
  },
  {
   "cell_type": "code",
   "execution_count": 47,
   "metadata": {},
   "outputs": [
    {
     "name": "stdout",
     "output_type": "stream",
     "text": [
      "Labels only in graph 1: set()\n",
      "Labels only in graph 2: set()\n"
     ]
    }
   ],
   "source": [
    "print(f\"Labels only in graph 1: {diff1}\")\n",
    "print(f\"Labels only in graph 2: {diff2}\")"
   ]
  },
  {
   "cell_type": "code",
   "execution_count": 31,
   "metadata": {},
   "outputs": [
    {
     "ename": "AttributeError",
     "evalue": "'str' object has no attribute 'graph'",
     "output_type": "error",
     "traceback": [
      "\u001b[1;31m---------------------------------------------------------------------------\u001b[0m",
      "\u001b[1;31mAttributeError\u001b[0m                            Traceback (most recent call last)",
      "Cell \u001b[1;32mIn[31], line 1\u001b[0m\n\u001b[1;32m----> 1\u001b[0m compare_graph_labels(graph1,graph2)\n",
      "Cell \u001b[1;32mIn[26], line 8\u001b[0m, in \u001b[0;36mcompare_graph_labels\u001b[1;34m(graph1, graph2)\u001b[0m\n\u001b[0;32m      5\u001b[0m gv_graph2 \u001b[39m=\u001b[39m graphviz\u001b[39m.\u001b[39mSource(graph2)\n\u001b[0;32m      7\u001b[0m \u001b[39m# Extract the labels from the nodes of each graph\u001b[39;00m\n\u001b[1;32m----> 8\u001b[0m labels1 \u001b[39m=\u001b[39m \u001b[39mset\u001b[39m(gv_graph1\u001b[39m.\u001b[39mengine\u001b[39m.\u001b[39mgraph_attr[\u001b[39m'\u001b[39m\u001b[39mnode\u001b[39m\u001b[39m'\u001b[39m][i][\u001b[39m'\u001b[39m\u001b[39mlabel\u001b[39m\u001b[39m'\u001b[39m] \u001b[39mfor\u001b[39;00m i \u001b[39min\u001b[39;00m gv_graph1\u001b[39m.\u001b[39;49mengine\u001b[39m.\u001b[39;49mgraph\u001b[39m.\u001b[39mnodes())\n\u001b[0;32m      9\u001b[0m labels2 \u001b[39m=\u001b[39m \u001b[39mset\u001b[39m(gv_graph2\u001b[39m.\u001b[39mengine\u001b[39m.\u001b[39mgraph_attr[\u001b[39m'\u001b[39m\u001b[39mnode\u001b[39m\u001b[39m'\u001b[39m][i][\u001b[39m'\u001b[39m\u001b[39mlabel\u001b[39m\u001b[39m'\u001b[39m] \u001b[39mfor\u001b[39;00m i \u001b[39min\u001b[39;00m gv_graph2\u001b[39m.\u001b[39mengine\u001b[39m.\u001b[39mgraph\u001b[39m.\u001b[39mnodes())\n\u001b[0;32m     11\u001b[0m \u001b[39m# Compare the labels and return the differences\u001b[39;00m\n",
      "\u001b[1;31mAttributeError\u001b[0m: 'str' object has no attribute 'graph'"
     ]
    }
   ],
   "source": [
    "compare_graph_labels(graph1,graph2)"
   ]
  },
  {
   "cell_type": "code",
   "execution_count": 26,
   "metadata": {},
   "outputs": [
    {
     "data": {
      "text/plain": [
       "'Gather\\nHashJoin\\nHashJoin\\nHash\\nSeqScan\\nHash\\nSeqScan\\nSeqScan'"
      ]
     },
     "execution_count": 26,
     "metadata": {},
     "output_type": "execute_result"
    }
   ],
   "source": [
    "remove_lines_without_arrow(inp)"
   ]
  },
  {
   "cell_type": "code",
   "execution_count": 57,
   "metadata": {},
   "outputs": [
    {
     "name": "stdout",
     "output_type": "stream",
     "text": [
      "SELECT Clause: AVG(o_totalprice)\n",
      "FROM Clause: orders\n",
      "WHERE Clause: a=b and c=c and orders like chenh\n"
     ]
    }
   ],
   "source": [
    "\n",
    "import re\n",
    "\n",
    "query = \"select AVG(o_totalprice) from orders where a=b and c=c and orders like chenh\"\n",
    "select_clause = ''\n",
    "from_clause = ''\n",
    "where_clause = ''\n",
    "\n",
    "\n",
    "# Use regular expressions to parse the query string\n",
    "try:\n",
    "    select_clause = re.search(r\"(?i)^SELECT\\s+(.+?)\\s+FROM\", query).group(1)\n",
    "except:\n",
    "    try:\n",
    "        select_clause = re.search(r\"(?i)^SELECT\\s+(.+?)$\", query).group(1)\n",
    "    except:\n",
    "        pass\n",
    "\n",
    "try:\n",
    "    from_clause = re.search(r\"(?i)^SELECT.+?\\s+FROM\\s+(.+?)\\s+WHERE\", query).group(1)\n",
    "except:\n",
    "    try:\n",
    "        from_clause = re.search(r\"(?i)^SELECT.+?\\s+FROM\\s+(.+?)$\", query).group(1)\n",
    "    except:\n",
    "        pass\n",
    "\n",
    "try:\n",
    "    where_clause = re.search(r\"(?i)^SELECT.+?\\s+FROM.+?\\s+WHERE\\s+(.+?)$\", query).group(1)\n",
    "except:\n",
    "    pass\n",
    "\n",
    "\n",
    "print(\"SELECT Clause:\", select_clause)\n",
    "print(\"FROM Clause:\", from_clause)\n",
    "print(\"WHERE Clause:\", where_clause)"
   ]
  },
  {
   "cell_type": "code",
   "execution_count": 61,
   "metadata": {},
   "outputs": [],
   "source": [
    "def query_diff(q1, q2):\n",
    "    select_clause1 = ''\n",
    "    from_clause1 = ''\n",
    "    where_clause1 = ''\n",
    "    select_clause2 = ''\n",
    "    from_clause2 = ''\n",
    "    where_clause2 = ''\n",
    "    if(q1 == q2):\n",
    "        return \"There are no changes between the queries\"\n",
    "    comp_str = 'due to changes in the '\n",
    "\n",
    "    try:\n",
    "        select_clause1 = re.search(r\"(?i)^SELECT\\s+(.+?)\\s+FROM\", q1).group(1)\n",
    "    except:\n",
    "        try:\n",
    "            select_clause1 = re.search(r\"(?i)^SELECT\\s+(.+?)$\", q1).group(1)\n",
    "        except:\n",
    "            pass\n",
    "\n",
    "    try:\n",
    "        from_clause1 = re.search(r\"(?i)^SELECT.+?\\s+FROM\\s+(.+?)\\s+WHERE\", q1).group(1)\n",
    "    except:\n",
    "        try:\n",
    "            from_clause1 = re.search(r\"(?i)^SELECT.+?\\s+FROM\\s+(.+?)$\", q1).group(1)\n",
    "        except:\n",
    "            pass\n",
    "\n",
    "    try:\n",
    "        where_clause1 = re.search(r\"(?i)^SELECT.+?\\s+FROM.+?\\s+WHERE\\s+(.+?)$\", q1).group(1)\n",
    "    except:\n",
    "        pass\n",
    "\n",
    "    try:\n",
    "        select_clause2 = re.search(r\"(?i)^SELECT\\s+(.+?)\\s+FROM\", q2).group(1)\n",
    "    except:\n",
    "        try:\n",
    "            select_clause2 = re.search(r\"(?i)^SELECT\\s+(.+?)$\", q2).group(1)\n",
    "        except:\n",
    "            pass\n",
    "\n",
    "    try:\n",
    "        from_clause2 = re.search(r\"(?i)^SELECT.+?\\s+FROM\\s+(.+?)\\s+WHERE\", q2).group(1)\n",
    "    except:\n",
    "        try:\n",
    "            from_clause2 = re.search(r\"(?i)^SELECT.+?\\s+FROM\\s+(.+?)$\", q2).group(1)\n",
    "        except:\n",
    "            pass\n",
    "\n",
    "    try:\n",
    "        where_clause2 = re.search(r\"(?i)^SELECT.+?\\s+FROM.+?\\s+WHERE\\s+(.+?)$\", q2).group(1)\n",
    "    except:\n",
    "        pass\n",
    "\n",
    "    if str(select_clause1) != str(select_clause2):\n",
    "        comp_str = comp_str + 'SELECT clause, '\n",
    "    if str(from_clause1) != str(from_clause2):\n",
    "        comp_str = comp_str + 'FROM clause, '\n",
    "    if str(where_clause1) != str(where_clause2):\n",
    "        comp_str = comp_str + 'WHERE clause, '\n",
    "    comp_str = comp_str + 'of the Evolved Query'\n",
    "\n",
    "    return comp_str"
   ]
  },
  {
   "cell_type": "code",
   "execution_count": 62,
   "metadata": {},
   "outputs": [
    {
     "data": {
      "text/plain": [
       "'due to changes in the WHERE clause, of the Evolved Query'"
      ]
     },
     "execution_count": 62,
     "metadata": {},
     "output_type": "execute_result"
    }
   ],
   "source": [
    "q1 = 'select AVG(o_totalprice) from orders where o_totalprice > 5'\n",
    "q2 = 'select AVG(o_totalprice) from orders'\n",
    "query_diff(q1,q2)"
   ]
  },
  {
   "cell_type": "code",
   "execution_count": 60,
   "metadata": {},
   "outputs": [
    {
     "ename": "SyntaxError",
     "evalue": "invalid syntax (3540676409.py, line 1)",
     "output_type": "error",
     "traceback": [
      "\u001b[1;36m  Cell \u001b[1;32mIn[60], line 1\u001b[1;36m\u001b[0m\n\u001b[1;33m    select AVG(o_totalprice) from orders\u001b[0m\n\u001b[1;37m           ^\u001b[0m\n\u001b[1;31mSyntaxError\u001b[0m\u001b[1;31m:\u001b[0m invalid syntax\n"
     ]
    }
   ],
   "source": [
    "select AVG(o_totalprice) from orders"
   ]
  },
  {
   "cell_type": "code",
   "execution_count": null,
   "metadata": {},
   "outputs": [],
   "source": [
    "select * from customer C, orders O where C.c_custkey = O.o_custkey and O.o_totalprice < 100000.0"
   ]
  }
 ],
 "metadata": {
  "kernelspec": {
   "display_name": "dsp2",
   "language": "python",
   "name": "python3"
  },
  "language_info": {
   "codemirror_mode": {
    "name": "ipython",
    "version": 3
   },
   "file_extension": ".py",
   "mimetype": "text/x-python",
   "name": "python",
   "nbconvert_exporter": "python",
   "pygments_lexer": "ipython3",
   "version": "3.11.0"
  },
  "orig_nbformat": 4
 },
 "nbformat": 4,
 "nbformat_minor": 2
}
