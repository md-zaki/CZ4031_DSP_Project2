{
 "cells": [
  {
   "cell_type": "code",
   "execution_count": 2,
   "metadata": {},
   "outputs": [],
   "source": [
    "import psycopg2"
   ]
  },
  {
   "cell_type": "code",
   "execution_count": 3,
   "metadata": {},
   "outputs": [],
   "source": [
    "conn = psycopg2.connect(database=\"postgres\",\n",
    "                        host=\"localhost\",\n",
    "                        user=\"postgres\",\n",
    "                        password=\"dspproject123\",\n",
    "                        port=\"5432\")"
   ]
  },
  {
   "cell_type": "code",
   "execution_count": 4,
   "metadata": {},
   "outputs": [
    {
     "data": {
      "text/plain": [
       "'EXPLAIN (COSTS FALSE, TIMING FALSE) select * from customer C, orders O where C.c_custkey = O.o_custkey and O.o_totalprice < 100000.0'"
      ]
     },
     "execution_count": 4,
     "metadata": {},
     "output_type": "execute_result"
    }
   ],
   "source": [
    "cursor = conn.cursor()\n",
    "query = \"select * from customer C, orders O where C.c_custkey = O.o_custkey and O.o_totalprice < 100000.0\"\n",
    "extract_qp = \"EXPLAIN (COSTS FALSE, TIMING FALSE) \"\n",
    "cursor.execute(extract_qp + query)\n",
    "extract_qp+query"
   ]
  },
  {
   "cell_type": "code",
   "execution_count": 5,
   "metadata": {},
   "outputs": [],
   "source": [
    "qep_list1 = cursor.fetchall()"
   ]
  },
  {
   "cell_type": "code",
   "execution_count": 6,
   "metadata": {},
   "outputs": [
    {
     "name": "stdout",
     "output_type": "stream",
     "text": [
      "Hash Join\n",
      "  Hash Cond: (o.o_custkey = c.c_custkey)\n",
      "  ->  Seq Scan on orders o\n",
      "        Filter: (o_totalprice < 100000.0)\n",
      "  ->  Hash\n",
      "        ->  Seq Scan on customer c\n"
     ]
    }
   ],
   "source": [
    "for i in qep_list1:\n",
    "    print(i[0])"
   ]
  },
  {
   "cell_type": "code",
   "execution_count": 7,
   "metadata": {},
   "outputs": [],
   "source": [
    "from collections import deque\n"
   ]
  },
  {
   "cell_type": "code",
   "execution_count": 22,
   "metadata": {},
   "outputs": [],
   "source": [
    "query = \"select AVG(o_totalprice) from orders\"\n",
    "extract_qp = \"EXPLAIN (ANALYZE false, SETTINGS true, FORMAT JSON) \"\n",
    "cursor.execute(extract_qp + query)"
   ]
  },
  {
   "cell_type": "code",
   "execution_count": 23,
   "metadata": {},
   "outputs": [],
   "source": [
    "qep = cursor.fetchall()[0][0][0].get(\"Plan\")"
   ]
  },
  {
   "cell_type": "code",
   "execution_count": 26,
   "metadata": {},
   "outputs": [],
   "source": [
    "node_list = []\n",
    "graph_str = ''''''\n",
    "graph_str = graph_str + 'digraph {'\n",
    "q = deque([qep])\n",
    "while q:\n",
    "    for i in range(len(q)):\n",
    "        node = q.popleft()\n",
    "        parent = node['Node Type']\n",
    "        node_list.append(node)\n",
    "        if \"Plans\" in node:\n",
    "            for child in node['Plans']:\n",
    "                graph_str = graph_str + parent + \" -> \" + child['Node Type'] + \"\\n\"\n",
    "                q.append(child)\n",
    "graph_str = graph_str + '}'"
   ]
  },
  {
   "cell_type": "code",
   "execution_count": 27,
   "metadata": {},
   "outputs": [
    {
     "data": {
      "text/plain": [
       "'digraph {Hash Join -> Seq Scan\\nHash Join -> Hash\\nHash -> Seq Scan\\n}'"
      ]
     },
     "execution_count": 27,
     "metadata": {},
     "output_type": "execute_result"
    }
   ],
   "source": [
    "graph_str"
   ]
  },
  {
   "cell_type": "code",
   "execution_count": 21,
   "metadata": {},
   "outputs": [
    {
     "name": "stderr",
     "output_type": "stream",
     "text": [
      "2023-03-29 20:20:00.115 \n",
      "  \u001b[33m\u001b[1mWarning:\u001b[0m to view this Streamlit app on a browser, run it with the following\n",
      "  command:\n",
      "\n",
      "    streamlit run c:\\Users\\mdzak\\anaconda3\\envs\\dsp2\\Lib\\site-packages\\ipykernel_launcher.py [ARGUMENTS]\n"
     ]
    },
    {
     "data": {
      "text/plain": [
       "DeltaGenerator(_root_container=0, _provided_cursor=None, _parent=None, _block_type=None, _form_data=None)"
      ]
     },
     "execution_count": 21,
     "metadata": {},
     "output_type": "execute_result"
    }
   ],
   "source": [
    "import graphviz\n",
    "import streamlit as st\n",
    "graph = '''\n",
    "    digraph {{\n",
    "        {e1} [color =\"red\"]\n",
    "        {e1} -> {e2}\n",
    "    }}\n",
    "'''.format(e1 = 'element1', e2 = 'element2')\n",
    "\n",
    "st.graphviz_chart(graph)"
   ]
  },
  {
   "cell_type": "code",
   "execution_count": 17,
   "metadata": {},
   "outputs": [],
   "source": [
    "str1 = \"hello word\"\n",
    "str2 = \"bye world\"\n",
    "new_string = str1 + \"\\n\" + str2"
   ]
  },
  {
   "cell_type": "code",
   "execution_count": 18,
   "metadata": {},
   "outputs": [
    {
     "data": {
      "text/plain": [
       "'hello word\\nbye world'"
      ]
     },
     "execution_count": 18,
     "metadata": {},
     "output_type": "execute_result"
    }
   ],
   "source": [
    "new_string"
   ]
  },
  {
   "cell_type": "code",
   "execution_count": null,
   "metadata": {},
   "outputs": [],
   "source": [
    "node_list"
   ]
  },
  {
   "cell_type": "code",
   "execution_count": null,
   "metadata": {},
   "outputs": [],
   "source": [
    "node_types"
   ]
  },
  {
   "cell_type": "code",
   "execution_count": null,
   "metadata": {},
   "outputs": [],
   "source": [
    "node_type_list = []\n",
    "count = 0\n",
    "for line in qep:\n",
    "    n_type = ''\n",
    "    node = line[0].split()\n",
    "    if node[0] == '->':\n",
    "        try:\n",
    "            n_type = node[1] + \" \" + node[2]\n",
    "        except:\n",
    "            n_type = node[1]\n",
    "        node_type_list.append(n_type)\n",
    "    elif count == 0:\n",
    "        try:\n",
    "            n_type = node[0] + \" \" + node[1]\n",
    "        except:\n",
    "            n_type = node[0]\n",
    "        node_type_list.append(n_type)\n",
    "        count = count + 1"
   ]
  },
  {
   "cell_type": "code",
   "execution_count": null,
   "metadata": {},
   "outputs": [],
   "source": [
    "node_type_list"
   ]
  },
  {
   "cell_type": "code",
   "execution_count": null,
   "metadata": {},
   "outputs": [],
   "source": [
    "exp_text = \"\""
   ]
  },
  {
   "cell_type": "code",
   "execution_count": null,
   "metadata": {},
   "outputs": [],
   "source": []
  },
  {
   "cell_type": "code",
   "execution_count": null,
   "metadata": {},
   "outputs": [],
   "source": []
  },
  {
   "cell_type": "code",
   "execution_count": null,
   "metadata": {},
   "outputs": [],
   "source": [
    "import psycopg2\n",
    "\n",
    "# Connect to the PostgreSQL database\n",
    "conn = psycopg2.connect(database=\"your_database_name\", user=\"your_username\", password=\"your_password\", host=\"your_host\", port=\"your_port\")\n",
    "cur = conn.cursor()\n",
    "\n",
    "# Execute the query and retrieve the query plan\n",
    "cur.execute(\"EXPLAIN ANALYZE your_query_here\")\n",
    "plan = cur.fetchall()\n",
    "\n",
    "# Define a function to convert the plan to natural language\n",
    "def explain_plan(plan):\n",
    "    explanation = \"\"\n",
    "\n",
    "    for line in plan:\n",
    "        # Split the line into its components\n",
    "        line_parts = line[0].split(\" \")\n",
    "        \n",
    "        # Check if the line represents a node in the execution plan\n",
    "        if line_parts[0] == \"->\":\n",
    "            # Extract the node type and the estimated cost\n",
    "            node_type = line_parts[1]\n",
    "            estimated_cost = line_parts[-1].replace(\"..\", \"to\")\n",
    "\n",
    "            # Generate a natural language explanation based on the node type\n",
    "            if node_type == \"Seq Scan\":\n",
    "                explanation += \"The database is scanning the entire table to retrieve the required data. \"\n",
    "            elif node_type == \"Index Scan\":\n",
    "                explanation += \"The database is using an index to retrieve the required data. \"\n",
    "            elif node_type == \"Nested Loop\":\n",
    "                explanation += \"The database is performing a nested loop join between two tables. \"\n",
    "            elif node_type == \"Hash Join\":\n",
    "                explanation += \"The database is performing a hash join between"
   ]
  }
 ],
 "metadata": {
  "kernelspec": {
   "display_name": "dsp2",
   "language": "python",
   "name": "python3"
  },
  "language_info": {
   "codemirror_mode": {
    "name": "ipython",
    "version": 3
   },
   "file_extension": ".py",
   "mimetype": "text/x-python",
   "name": "python",
   "nbconvert_exporter": "python",
   "pygments_lexer": "ipython3",
   "version": "3.11.0"
  },
  "orig_nbformat": 4
 },
 "nbformat": 4,
 "nbformat_minor": 2
}
